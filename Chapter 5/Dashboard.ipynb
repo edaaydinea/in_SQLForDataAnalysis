{
 "cells": [
  {
   "cell_type": "code",
   "execution_count": 1,
   "metadata": {},
   "outputs": [],
   "source": [
    "#Import the libraries needed to run the code\n",
    "import pandas as pd\n",
    "import sqlalchemy as sa\n",
    "import plotly.express as px\n",
    "import plotly.graph_objects as go\n",
    "from sqlalchemy.engine import create_engine\n",
    "import os"
   ]
  },
  {
   "cell_type": "code",
   "execution_count": 2,
   "metadata": {},
   "outputs": [],
   "source": [
    "import configparser\n",
    "from sqlalchemy import create_engine\n",
    "\n",
    "# Read the configuration file\n",
    "config = configparser.ConfigParser()\n",
    "config.read('config.ini')\n",
    "\n",
    "# Get values from the config file\n",
    "username = config['database']['username']\n",
    "password = config['database']['password']\n",
    "host = config['database']['host']\n",
    "database = config['database']['database']\n",
    "\n",
    "# Connect using the config values\n",
    "engine = create_engine(f\"mysql+pymysql://{username}:{password}@{host}/{database}?charset=utf8mb4\")\n",
    "connection = engine.connect()"
   ]
  },
  {
   "cell_type": "code",
   "execution_count": 7,
   "metadata": {},
   "outputs": [
    {
     "data": {
      "text/html": [
       "<div>\n",
       "<style scoped>\n",
       "    .dataframe tbody tr th:only-of-type {\n",
       "        vertical-align: middle;\n",
       "    }\n",
       "\n",
       "    .dataframe tbody tr th {\n",
       "        vertical-align: top;\n",
       "    }\n",
       "\n",
       "    .dataframe thead th {\n",
       "        text-align: right;\n",
       "    }\n",
       "</style>\n",
       "<table border=\"1\" class=\"dataframe\">\n",
       "  <thead>\n",
       "    <tr style=\"text-align: right;\">\n",
       "      <th></th>\n",
       "      <th>OrderDate</th>\n",
       "      <th>Salesperson</th>\n",
       "      <th>Amount of Orders</th>\n",
       "      <th>Total Due</th>\n",
       "    </tr>\n",
       "  </thead>\n",
       "  <tbody>\n",
       "    <tr>\n",
       "      <th>0</th>\n",
       "      <td>2016-06-30</td>\n",
       "      <td>Jack Powell</td>\n",
       "      <td>1</td>\n",
       "      <td>12.53</td>\n",
       "    </tr>\n",
       "    <tr>\n",
       "      <th>1</th>\n",
       "      <td>2015-06-08</td>\n",
       "      <td>Jack Powell</td>\n",
       "      <td>1</td>\n",
       "      <td>62.65</td>\n",
       "    </tr>\n",
       "    <tr>\n",
       "      <th>2</th>\n",
       "      <td>2016-01-26</td>\n",
       "      <td>Jack Powell</td>\n",
       "      <td>1</td>\n",
       "      <td>194.36</td>\n",
       "    </tr>\n",
       "    <tr>\n",
       "      <th>3</th>\n",
       "      <td>2015-11-30</td>\n",
       "      <td>Jack Powell</td>\n",
       "      <td>1</td>\n",
       "      <td>244.51</td>\n",
       "    </tr>\n",
       "    <tr>\n",
       "      <th>4</th>\n",
       "      <td>2015-11-08</td>\n",
       "      <td>Jack Powell</td>\n",
       "      <td>1</td>\n",
       "      <td>35.80</td>\n",
       "    </tr>\n",
       "  </tbody>\n",
       "</table>\n",
       "</div>"
      ],
      "text/plain": [
       "   OrderDate  Salesperson  Amount of Orders  Total Due\n",
       "0 2016-06-30  Jack Powell                 1      12.53\n",
       "1 2015-06-08  Jack Powell                 1      62.65\n",
       "2 2016-01-26  Jack Powell                 1     194.36\n",
       "3 2015-11-30  Jack Powell                 1     244.51\n",
       "4 2015-11-08  Jack Powell                 1      35.80"
      ]
     },
     "execution_count": 7,
     "metadata": {},
     "output_type": "execute_result"
    }
   ],
   "source": [
    "#Let's take a peak at our data. This code shows the first 5 records\n",
    "df = pd.read_sql_query(\"SELECT * FROM V_Orders\",\n",
    "                       connection)\n",
    "df.head()"
   ]
  },
  {
   "cell_type": "code",
   "execution_count": 8,
   "metadata": {},
   "outputs": [
    {
     "data": {
      "application/vnd.plotly.v1+json": {
       "config": {
        "plotlyServerURL": "https://plot.ly"
       },
       "data": [
        {
         "alignmentgroup": "True",
         "hovertemplate": "OrderDate=%{x}<br>Total Due=%{y}<extra></extra>",
         "legendgroup": "",
         "marker": {
          "color": "#636efa",
          "pattern": {
           "shape": ""
          }
         },
         "name": "",
         "offsetgroup": "",
         "orientation": "v",
         "showlegend": false,
         "textposition": "auto",
         "type": "bar",
         "x": [
          "2016-06-30T00:00:00",
          "2015-06-08T00:00:00",
          "2016-01-26T00:00:00",
          "2015-11-30T00:00:00",
          "2015-11-08T00:00:00",
          "2015-07-25T00:00:00",
          "2016-07-15T00:00:00",
          "2016-05-27T00:00:00",
          "2016-03-03T00:00:00",
          "2016-03-13T00:00:00",
          "2016-07-31T00:00:00",
          "2016-02-16T00:00:00",
          "2016-05-05T00:00:00",
          "2016-07-19T00:00:00",
          "2015-09-01T00:00:00",
          "2015-08-21T00:00:00",
          "2016-01-11T00:00:00",
          "2016-02-27T00:00:00",
          "2015-10-26T00:00:00",
          "2015-08-02T00:00:00",
          "2016-06-12T00:00:00",
          "2015-06-21T00:00:00",
          "2015-06-30T00:00:00",
          "2015-06-19T00:00:00",
          "2016-05-12T00:00:00",
          "2015-11-01T00:00:00",
          "2016-07-01T00:00:00",
          "2016-04-12T00:00:00",
          "2016-08-09T00:00:00",
          "2016-01-16T00:00:00",
          "2016-01-01T00:00:00",
          "2015-06-30T00:00:00",
          "2016-07-03T00:00:00",
          "2016-02-13T00:00:00",
          "2015-11-16T00:00:00",
          "2015-08-09T00:00:00",
          "2015-06-30T00:00:00",
          "2015-07-25T00:00:00",
          "2016-01-09T00:00:00",
          "2015-12-04T00:00:00",
          "2016-07-02T00:00:00",
          "2015-10-03T00:00:00",
          "2016-02-01T00:00:00",
          "2015-06-15T00:00:00",
          "2015-06-05T00:00:00",
          "2016-07-08T00:00:00",
          "2016-07-09T00:00:00",
          "2016-03-03T00:00:00",
          "2015-08-19T00:00:00",
          "2015-07-25T00:00:00",
          "2016-06-29T00:00:00",
          "2016-05-19T00:00:00",
          "2016-01-25T00:00:00",
          "2016-06-26T00:00:00",
          "2015-06-13T00:00:00",
          "2016-05-18T00:00:00",
          "2015-09-24T00:00:00",
          "2015-06-24T00:00:00",
          "2015-12-30T00:00:00",
          "2016-07-25T00:00:00",
          "2015-08-26T00:00:00",
          "2015-06-24T00:00:00",
          "2016-03-13T00:00:00",
          "2016-05-23T00:00:00",
          "2016-07-13T00:00:00",
          "2015-09-19T00:00:00",
          "2016-04-11T00:00:00",
          "2016-02-28T00:00:00",
          "2016-01-11T00:00:00",
          "2015-11-19T00:00:00",
          "2016-07-11T00:00:00",
          "2016-07-02T00:00:00",
          "2016-02-19T00:00:00",
          "2015-07-15T00:00:00",
          "2015-09-10T00:00:00",
          "2016-06-19T00:00:00",
          "2016-01-17T00:00:00",
          "2016-02-03T00:00:00",
          "2016-03-16T00:00:00",
          "2016-06-23T00:00:00",
          "2015-10-08T00:00:00",
          "2015-11-12T00:00:00",
          "2016-05-18T00:00:00",
          "2016-05-19T00:00:00",
          "2016-02-25T00:00:00",
          "2016-02-13T00:00:00",
          "2015-10-29T00:00:00",
          "2015-06-07T00:00:00",
          "2016-05-04T00:00:00",
          "2016-04-10T00:00:00",
          "2016-07-04T00:00:00",
          "2015-12-14T00:00:00",
          "2015-10-31T00:00:00",
          "2015-09-22T00:00:00",
          "2015-08-06T00:00:00",
          "2015-11-09T00:00:00",
          "2016-02-11T00:00:00",
          "2015-06-23T00:00:00",
          "2015-09-01T00:00:00",
          "2015-07-06T00:00:00",
          "2016-02-09T00:00:00",
          "2016-03-12T00:00:00",
          "2015-12-20T00:00:00",
          "2016-05-08T00:00:00",
          "2016-08-01T00:00:00",
          "2015-11-22T00:00:00",
          "2015-06-13T00:00:00",
          "2016-04-03T00:00:00",
          "2016-04-19T00:00:00",
          "2016-05-14T00:00:00",
          "2015-11-12T00:00:00",
          "2015-12-08T00:00:00",
          "2015-12-25T00:00:00",
          "2015-09-11T00:00:00",
          "2015-11-02T00:00:00",
          "2015-12-25T00:00:00",
          "2015-07-31T00:00:00",
          "2015-10-12T00:00:00",
          "2016-08-08T00:00:00",
          "2016-06-27T00:00:00",
          "2016-04-02T00:00:00",
          "2016-06-09T00:00:00",
          "2016-07-16T00:00:00",
          "2016-04-17T00:00:00",
          "2016-02-09T00:00:00",
          "2016-06-01T00:00:00",
          "2015-09-23T00:00:00",
          "2016-06-23T00:00:00",
          "2016-02-03T00:00:00",
          "2016-02-29T00:00:00",
          "2015-08-21T00:00:00",
          "2015-11-09T00:00:00",
          "2016-06-12T00:00:00",
          "2016-03-22T00:00:00",
          "2015-06-30T00:00:00",
          "2016-01-06T00:00:00",
          "2016-03-18T00:00:00",
          "2015-11-27T00:00:00",
          "2016-03-02T00:00:00",
          "2016-05-01T00:00:00",
          "2015-12-19T00:00:00",
          "2016-07-05T00:00:00",
          "2016-03-29T00:00:00",
          "2016-07-19T00:00:00",
          "2016-05-24T00:00:00",
          "2016-04-04T00:00:00",
          "2016-01-08T00:00:00",
          "2015-08-22T00:00:00",
          "2015-11-19T00:00:00",
          "2015-10-20T00:00:00",
          "2015-11-17T00:00:00",
          "2016-07-27T00:00:00",
          "2015-09-20T00:00:00",
          "2016-03-24T00:00:00",
          "2016-05-28T00:00:00",
          "2015-06-25T00:00:00",
          "2016-02-26T00:00:00",
          "2016-01-13T00:00:00",
          "2015-11-01T00:00:00",
          "2015-11-15T00:00:00",
          "2016-07-30T00:00:00",
          "2016-07-18T00:00:00",
          "2015-10-20T00:00:00",
          "2015-10-09T00:00:00",
          "2016-01-12T00:00:00",
          "2016-01-15T00:00:00",
          "2015-12-20T00:00:00",
          "2016-02-19T00:00:00",
          "2015-11-22T00:00:00",
          "2016-05-27T00:00:00",
          "2016-04-08T00:00:00",
          "2016-06-20T00:00:00",
          "2016-02-15T00:00:00",
          "2015-07-26T00:00:00",
          "2015-10-17T00:00:00",
          "2016-06-15T00:00:00",
          "2015-08-14T00:00:00",
          "2016-06-19T00:00:00",
          "2016-07-05T00:00:00",
          "2016-06-29T00:00:00",
          "2016-02-15T00:00:00",
          "2016-02-12T00:00:00",
          "2016-05-10T00:00:00",
          "2015-10-02T00:00:00",
          "2016-07-04T00:00:00",
          "2016-05-05T00:00:00",
          "2015-07-09T00:00:00",
          "2015-10-11T00:00:00",
          "2015-08-02T00:00:00",
          "2016-04-24T00:00:00",
          "2016-02-29T00:00:00",
          "2015-07-29T00:00:00",
          "2015-07-12T00:00:00",
          "2016-01-25T00:00:00",
          "2015-11-08T00:00:00",
          "2016-04-06T00:00:00",
          "2015-08-15T00:00:00",
          "2015-11-26T00:00:00",
          "2016-04-02T00:00:00",
          "2015-08-04T00:00:00"
         ],
         "xaxis": "x",
         "y": [
          12.53,
          62.65,
          194.36,
          244.51,
          35.8,
          199.25,
          129.15,
          155.89,
          191.88,
          241.09,
          211.22,
          214.02,
          142.59,
          151.98,
          218.07,
          273.87,
          275.66,
          141.41,
          84.87,
          337.12,
          169.74,
          217.3,
          32.65,
          198.3,
          277.47,
          161.51,
          276.78,
          426.61,
          482.54,
          130.2,
          132.84,
          232.47,
          219.64,
          64.44,
          276.75,
          67.44,
          157.13,
          93.08,
          168.26,
          41.17,
          78.76,
          105.61,
          153.94,
          451.43,
          166.99,
          558.9,
          139.81,
          515.06,
          206.67,
          212.15,
          277.22,
          143.06,
          228.78,
          66.42,
          22.03,
          30.43,
          238.45,
          130.17,
          53.7,
          7.38,
          220.55,
          221.4,
          206.89,
          507.35,
          263.24,
          143.89,
          143.91,
          30.43,
          113.1,
          153.94,
          199.26,
          225.09,
          226.88,
          108.69,
          404.25,
          136.45,
          208.24,
          277.75,
          44.75,
          20.22,
          3.58,
          97.51,
          136.53,
          488.13,
          312.91,
          186.42,
          259.54,
          192.79,
          107.01,
          17.9,
          36.9,
          66.42,
          275.49,
          127.5,
          26.85,
          32.22,
          7.38,
          283.53,
          24.78,
          277.36,
          114.56,
          331.88,
          187.12,
          462.66,
          371.76,
          373.99,
          201.36,
          112.77,
          396.18,
          118.22,
          273.45,
          115.41,
          206.12,
          112.38,
          99.63,
          198.41,
          127.61,
          97.54,
          287.82,
          62.73,
          465.58,
          265.35,
          21.48,
          25.06,
          81.87,
          75.18,
          241.34,
          276.01,
          280.44,
          233.08,
          57.28,
          334.53,
          291.1,
          261.23,
          58.38,
          36.9,
          218.9,
          74.49,
          366.99,
          250.92,
          315.83,
          269.65,
          68.68,
          60.86,
          42.96,
          323.71,
          125.3,
          207.11,
          125.46,
          277.58,
          242.66,
          317.59,
          416.31,
          84.87,
          192.68,
          98.45,
          227.46,
          638.29,
          218.1,
          134.19,
          34.01,
          290.44,
          145.18,
          13.95,
          106.27,
          101.01,
          210.33,
          195.57,
          393.13,
          48.33,
          258.3,
          143.91,
          12.53,
          168.89,
          226.69,
          44.75,
          22.34,
          60.86,
          290.63,
          217.71,
          198.27,
          169.74,
          283.39,
          284.33,
          189.79,
          55.35,
          196.9,
          216.59,
          40.59,
          101.47,
          285.62,
          276.01,
          62.65,
          66.42,
          236.08,
          374.48,
          168.42,
          122.24,
          147.6,
          144.6
         ],
         "yaxis": "y"
        }
       ],
       "layout": {
        "barmode": "relative",
        "legend": {
         "tracegroupgap": 0
        },
        "margin": {
         "t": 60
        },
        "template": {
         "data": {
          "bar": [
           {
            "error_x": {
             "color": "#2a3f5f"
            },
            "error_y": {
             "color": "#2a3f5f"
            },
            "marker": {
             "line": {
              "color": "#E5ECF6",
              "width": 0.5
             },
             "pattern": {
              "fillmode": "overlay",
              "size": 10,
              "solidity": 0.2
             }
            },
            "type": "bar"
           }
          ],
          "barpolar": [
           {
            "marker": {
             "line": {
              "color": "#E5ECF6",
              "width": 0.5
             },
             "pattern": {
              "fillmode": "overlay",
              "size": 10,
              "solidity": 0.2
             }
            },
            "type": "barpolar"
           }
          ],
          "carpet": [
           {
            "aaxis": {
             "endlinecolor": "#2a3f5f",
             "gridcolor": "white",
             "linecolor": "white",
             "minorgridcolor": "white",
             "startlinecolor": "#2a3f5f"
            },
            "baxis": {
             "endlinecolor": "#2a3f5f",
             "gridcolor": "white",
             "linecolor": "white",
             "minorgridcolor": "white",
             "startlinecolor": "#2a3f5f"
            },
            "type": "carpet"
           }
          ],
          "choropleth": [
           {
            "colorbar": {
             "outlinewidth": 0,
             "ticks": ""
            },
            "type": "choropleth"
           }
          ],
          "contour": [
           {
            "colorbar": {
             "outlinewidth": 0,
             "ticks": ""
            },
            "colorscale": [
             [
              0,
              "#0d0887"
             ],
             [
              0.1111111111111111,
              "#46039f"
             ],
             [
              0.2222222222222222,
              "#7201a8"
             ],
             [
              0.3333333333333333,
              "#9c179e"
             ],
             [
              0.4444444444444444,
              "#bd3786"
             ],
             [
              0.5555555555555556,
              "#d8576b"
             ],
             [
              0.6666666666666666,
              "#ed7953"
             ],
             [
              0.7777777777777778,
              "#fb9f3a"
             ],
             [
              0.8888888888888888,
              "#fdca26"
             ],
             [
              1,
              "#f0f921"
             ]
            ],
            "type": "contour"
           }
          ],
          "contourcarpet": [
           {
            "colorbar": {
             "outlinewidth": 0,
             "ticks": ""
            },
            "type": "contourcarpet"
           }
          ],
          "heatmap": [
           {
            "colorbar": {
             "outlinewidth": 0,
             "ticks": ""
            },
            "colorscale": [
             [
              0,
              "#0d0887"
             ],
             [
              0.1111111111111111,
              "#46039f"
             ],
             [
              0.2222222222222222,
              "#7201a8"
             ],
             [
              0.3333333333333333,
              "#9c179e"
             ],
             [
              0.4444444444444444,
              "#bd3786"
             ],
             [
              0.5555555555555556,
              "#d8576b"
             ],
             [
              0.6666666666666666,
              "#ed7953"
             ],
             [
              0.7777777777777778,
              "#fb9f3a"
             ],
             [
              0.8888888888888888,
              "#fdca26"
             ],
             [
              1,
              "#f0f921"
             ]
            ],
            "type": "heatmap"
           }
          ],
          "heatmapgl": [
           {
            "colorbar": {
             "outlinewidth": 0,
             "ticks": ""
            },
            "colorscale": [
             [
              0,
              "#0d0887"
             ],
             [
              0.1111111111111111,
              "#46039f"
             ],
             [
              0.2222222222222222,
              "#7201a8"
             ],
             [
              0.3333333333333333,
              "#9c179e"
             ],
             [
              0.4444444444444444,
              "#bd3786"
             ],
             [
              0.5555555555555556,
              "#d8576b"
             ],
             [
              0.6666666666666666,
              "#ed7953"
             ],
             [
              0.7777777777777778,
              "#fb9f3a"
             ],
             [
              0.8888888888888888,
              "#fdca26"
             ],
             [
              1,
              "#f0f921"
             ]
            ],
            "type": "heatmapgl"
           }
          ],
          "histogram": [
           {
            "marker": {
             "pattern": {
              "fillmode": "overlay",
              "size": 10,
              "solidity": 0.2
             }
            },
            "type": "histogram"
           }
          ],
          "histogram2d": [
           {
            "colorbar": {
             "outlinewidth": 0,
             "ticks": ""
            },
            "colorscale": [
             [
              0,
              "#0d0887"
             ],
             [
              0.1111111111111111,
              "#46039f"
             ],
             [
              0.2222222222222222,
              "#7201a8"
             ],
             [
              0.3333333333333333,
              "#9c179e"
             ],
             [
              0.4444444444444444,
              "#bd3786"
             ],
             [
              0.5555555555555556,
              "#d8576b"
             ],
             [
              0.6666666666666666,
              "#ed7953"
             ],
             [
              0.7777777777777778,
              "#fb9f3a"
             ],
             [
              0.8888888888888888,
              "#fdca26"
             ],
             [
              1,
              "#f0f921"
             ]
            ],
            "type": "histogram2d"
           }
          ],
          "histogram2dcontour": [
           {
            "colorbar": {
             "outlinewidth": 0,
             "ticks": ""
            },
            "colorscale": [
             [
              0,
              "#0d0887"
             ],
             [
              0.1111111111111111,
              "#46039f"
             ],
             [
              0.2222222222222222,
              "#7201a8"
             ],
             [
              0.3333333333333333,
              "#9c179e"
             ],
             [
              0.4444444444444444,
              "#bd3786"
             ],
             [
              0.5555555555555556,
              "#d8576b"
             ],
             [
              0.6666666666666666,
              "#ed7953"
             ],
             [
              0.7777777777777778,
              "#fb9f3a"
             ],
             [
              0.8888888888888888,
              "#fdca26"
             ],
             [
              1,
              "#f0f921"
             ]
            ],
            "type": "histogram2dcontour"
           }
          ],
          "mesh3d": [
           {
            "colorbar": {
             "outlinewidth": 0,
             "ticks": ""
            },
            "type": "mesh3d"
           }
          ],
          "parcoords": [
           {
            "line": {
             "colorbar": {
              "outlinewidth": 0,
              "ticks": ""
             }
            },
            "type": "parcoords"
           }
          ],
          "pie": [
           {
            "automargin": true,
            "type": "pie"
           }
          ],
          "scatter": [
           {
            "fillpattern": {
             "fillmode": "overlay",
             "size": 10,
             "solidity": 0.2
            },
            "type": "scatter"
           }
          ],
          "scatter3d": [
           {
            "line": {
             "colorbar": {
              "outlinewidth": 0,
              "ticks": ""
             }
            },
            "marker": {
             "colorbar": {
              "outlinewidth": 0,
              "ticks": ""
             }
            },
            "type": "scatter3d"
           }
          ],
          "scattercarpet": [
           {
            "marker": {
             "colorbar": {
              "outlinewidth": 0,
              "ticks": ""
             }
            },
            "type": "scattercarpet"
           }
          ],
          "scattergeo": [
           {
            "marker": {
             "colorbar": {
              "outlinewidth": 0,
              "ticks": ""
             }
            },
            "type": "scattergeo"
           }
          ],
          "scattergl": [
           {
            "marker": {
             "colorbar": {
              "outlinewidth": 0,
              "ticks": ""
             }
            },
            "type": "scattergl"
           }
          ],
          "scattermapbox": [
           {
            "marker": {
             "colorbar": {
              "outlinewidth": 0,
              "ticks": ""
             }
            },
            "type": "scattermapbox"
           }
          ],
          "scatterpolar": [
           {
            "marker": {
             "colorbar": {
              "outlinewidth": 0,
              "ticks": ""
             }
            },
            "type": "scatterpolar"
           }
          ],
          "scatterpolargl": [
           {
            "marker": {
             "colorbar": {
              "outlinewidth": 0,
              "ticks": ""
             }
            },
            "type": "scatterpolargl"
           }
          ],
          "scatterternary": [
           {
            "marker": {
             "colorbar": {
              "outlinewidth": 0,
              "ticks": ""
             }
            },
            "type": "scatterternary"
           }
          ],
          "surface": [
           {
            "colorbar": {
             "outlinewidth": 0,
             "ticks": ""
            },
            "colorscale": [
             [
              0,
              "#0d0887"
             ],
             [
              0.1111111111111111,
              "#46039f"
             ],
             [
              0.2222222222222222,
              "#7201a8"
             ],
             [
              0.3333333333333333,
              "#9c179e"
             ],
             [
              0.4444444444444444,
              "#bd3786"
             ],
             [
              0.5555555555555556,
              "#d8576b"
             ],
             [
              0.6666666666666666,
              "#ed7953"
             ],
             [
              0.7777777777777778,
              "#fb9f3a"
             ],
             [
              0.8888888888888888,
              "#fdca26"
             ],
             [
              1,
              "#f0f921"
             ]
            ],
            "type": "surface"
           }
          ],
          "table": [
           {
            "cells": {
             "fill": {
              "color": "#EBF0F8"
             },
             "line": {
              "color": "white"
             }
            },
            "header": {
             "fill": {
              "color": "#C8D4E3"
             },
             "line": {
              "color": "white"
             }
            },
            "type": "table"
           }
          ]
         },
         "layout": {
          "annotationdefaults": {
           "arrowcolor": "#2a3f5f",
           "arrowhead": 0,
           "arrowwidth": 1
          },
          "autotypenumbers": "strict",
          "coloraxis": {
           "colorbar": {
            "outlinewidth": 0,
            "ticks": ""
           }
          },
          "colorscale": {
           "diverging": [
            [
             0,
             "#8e0152"
            ],
            [
             0.1,
             "#c51b7d"
            ],
            [
             0.2,
             "#de77ae"
            ],
            [
             0.3,
             "#f1b6da"
            ],
            [
             0.4,
             "#fde0ef"
            ],
            [
             0.5,
             "#f7f7f7"
            ],
            [
             0.6,
             "#e6f5d0"
            ],
            [
             0.7,
             "#b8e186"
            ],
            [
             0.8,
             "#7fbc41"
            ],
            [
             0.9,
             "#4d9221"
            ],
            [
             1,
             "#276419"
            ]
           ],
           "sequential": [
            [
             0,
             "#0d0887"
            ],
            [
             0.1111111111111111,
             "#46039f"
            ],
            [
             0.2222222222222222,
             "#7201a8"
            ],
            [
             0.3333333333333333,
             "#9c179e"
            ],
            [
             0.4444444444444444,
             "#bd3786"
            ],
            [
             0.5555555555555556,
             "#d8576b"
            ],
            [
             0.6666666666666666,
             "#ed7953"
            ],
            [
             0.7777777777777778,
             "#fb9f3a"
            ],
            [
             0.8888888888888888,
             "#fdca26"
            ],
            [
             1,
             "#f0f921"
            ]
           ],
           "sequentialminus": [
            [
             0,
             "#0d0887"
            ],
            [
             0.1111111111111111,
             "#46039f"
            ],
            [
             0.2222222222222222,
             "#7201a8"
            ],
            [
             0.3333333333333333,
             "#9c179e"
            ],
            [
             0.4444444444444444,
             "#bd3786"
            ],
            [
             0.5555555555555556,
             "#d8576b"
            ],
            [
             0.6666666666666666,
             "#ed7953"
            ],
            [
             0.7777777777777778,
             "#fb9f3a"
            ],
            [
             0.8888888888888888,
             "#fdca26"
            ],
            [
             1,
             "#f0f921"
            ]
           ]
          },
          "colorway": [
           "#636efa",
           "#EF553B",
           "#00cc96",
           "#ab63fa",
           "#FFA15A",
           "#19d3f3",
           "#FF6692",
           "#B6E880",
           "#FF97FF",
           "#FECB52"
          ],
          "font": {
           "color": "#2a3f5f"
          },
          "geo": {
           "bgcolor": "white",
           "lakecolor": "white",
           "landcolor": "#E5ECF6",
           "showlakes": true,
           "showland": true,
           "subunitcolor": "white"
          },
          "hoverlabel": {
           "align": "left"
          },
          "hovermode": "closest",
          "mapbox": {
           "style": "light"
          },
          "paper_bgcolor": "white",
          "plot_bgcolor": "#E5ECF6",
          "polar": {
           "angularaxis": {
            "gridcolor": "white",
            "linecolor": "white",
            "ticks": ""
           },
           "bgcolor": "#E5ECF6",
           "radialaxis": {
            "gridcolor": "white",
            "linecolor": "white",
            "ticks": ""
           }
          },
          "scene": {
           "xaxis": {
            "backgroundcolor": "#E5ECF6",
            "gridcolor": "white",
            "gridwidth": 2,
            "linecolor": "white",
            "showbackground": true,
            "ticks": "",
            "zerolinecolor": "white"
           },
           "yaxis": {
            "backgroundcolor": "#E5ECF6",
            "gridcolor": "white",
            "gridwidth": 2,
            "linecolor": "white",
            "showbackground": true,
            "ticks": "",
            "zerolinecolor": "white"
           },
           "zaxis": {
            "backgroundcolor": "#E5ECF6",
            "gridcolor": "white",
            "gridwidth": 2,
            "linecolor": "white",
            "showbackground": true,
            "ticks": "",
            "zerolinecolor": "white"
           }
          },
          "shapedefaults": {
           "line": {
            "color": "#2a3f5f"
           }
          },
          "ternary": {
           "aaxis": {
            "gridcolor": "white",
            "linecolor": "white",
            "ticks": ""
           },
           "baxis": {
            "gridcolor": "white",
            "linecolor": "white",
            "ticks": ""
           },
           "bgcolor": "#E5ECF6",
           "caxis": {
            "gridcolor": "white",
            "linecolor": "white",
            "ticks": ""
           }
          },
          "title": {
           "x": 0.05
          },
          "xaxis": {
           "automargin": true,
           "gridcolor": "white",
           "linecolor": "white",
           "ticks": "",
           "title": {
            "standoff": 15
           },
           "zerolinecolor": "white",
           "zerolinewidth": 2
          },
          "yaxis": {
           "automargin": true,
           "gridcolor": "white",
           "linecolor": "white",
           "ticks": "",
           "title": {
            "standoff": 15
           },
           "zerolinecolor": "white",
           "zerolinewidth": 2
          }
         }
        },
        "xaxis": {
         "anchor": "y",
         "domain": [
          0,
          1
         ],
         "title": {
          "text": "OrderDate"
         }
        },
        "yaxis": {
         "anchor": "x",
         "domain": [
          0,
          1
         ],
         "title": {
          "text": "Total Due"
         }
        }
       }
      }
     },
     "metadata": {},
     "output_type": "display_data"
    }
   ],
   "source": [
    "#Now we'll make a simple bar chart of sales by year\n",
    "fig = px.bar(df, x='OrderDate', y='Total Due')\n",
    "fig.show()"
   ]
  },
  {
   "cell_type": "code",
   "execution_count": 10,
   "metadata": {},
   "outputs": [
    {
     "name": "stdout",
     "output_type": "stream",
     "text": [
      "Note: you may need to restart the kernel to use updated packages.\n"
     ]
    }
   ],
   "source": [
    "%pip install dash -q"
   ]
  },
  {
   "cell_type": "code",
   "execution_count": 12,
   "metadata": {},
   "outputs": [
    {
     "data": {
      "text/html": [
       "\n",
       "        <iframe\n",
       "            width=\"100%\"\n",
       "            height=\"650\"\n",
       "            src=\"http://127.0.0.1:8050/\"\n",
       "            frameborder=\"0\"\n",
       "            allowfullscreen\n",
       "            \n",
       "        ></iframe>\n",
       "        "
      ],
      "text/plain": [
       "<IPython.lib.display.IFrame at 0x161fe23aab0>"
      ]
     },
     "metadata": {},
     "output_type": "display_data"
    }
   ],
   "source": [
    "# Create a Web-based Dashboard using Dash\n",
    "import dash\n",
    "from dash import dcc\n",
    "from dash import html\n",
    "\n",
    "fig = go.Figure()\n",
    "\n",
    "for index, row in df.iterrows():\n",
    "    df_salesperson = df[df['Salesperson'] == row.Salesperson]\n",
    "    fig.add_trace(\n",
    "        go.Scatter(x=list(df_salesperson.OrderDate),\n",
    "               y=list(df_salesperson['Total Due']),\n",
    "               name=row.Salesperson,\n",
    "               text=list(df['Total Due'].round(1)),\n",
    "               textposition=\"top left\"))\n",
    "\n",
    "salesperson_list = []\n",
    "visibility = [False for i in range(len(df['Salesperson']))]\n",
    "for index, row in df.iterrows():\n",
    "    visibility = [False for i in range(len(df['Salesperson']))]\n",
    "    visibility[index] = True\n",
    "    d = dict(label=row.Salesperson,\n",
    "          method=\"update\",\n",
    "        args=[{\"visible\": visibility},\n",
    "               {\"title\": \"Order Summary\",\n",
    "                \"annotations\": []}])\n",
    "\n",
    "    salesperson_list.append(d)\n",
    "    \n",
    "\n",
    "fig.update_layout(\n",
    "    updatemenus=[\n",
    "        dict(\n",
    "            active=0,\n",
    "            buttons=salesperson_list,\n",
    "        )\n",
    "    ])\n",
    "app = dash.Dash()\n",
    "app.layout = html.Div([\n",
    "    dcc.Graph(figure=fig)\n",
    "])\n",
    "\n",
    "app.run_server(debug=True, use_reloader=False)\n",
    "\n"
   ]
  },
  {
   "attachments": {},
   "cell_type": "markdown",
   "metadata": {},
   "source": [
    "In the VSCode browser, go the the Main Menu icon on the far left at the top. Go to Terminal and Choose New Terminal. Ports. In the Terminal Window, go to the Ports tab. Find Port 8080, right click, and choose \"Open In Browser\" to view the dashboard. \n",
    "\n",
    "![Ports View](../images/ports.png)\n",
    "\n",
    "![Open In Browser](../images/open-in-browser.png)\n",
    "\n",
    "Below is an image of the dashboard.\n",
    "![Example Dashbaord](../images/dashboard-example.png)\n",
    "\n"
   ]
  }
 ],
 "metadata": {
  "kernelspec": {
   "display_name": "Python 3",
   "language": "python",
   "name": "python3"
  },
  "language_info": {
   "codemirror_mode": {
    "name": "ipython",
    "version": 3
   },
   "file_extension": ".py",
   "mimetype": "text/x-python",
   "name": "python",
   "nbconvert_exporter": "python",
   "pygments_lexer": "ipython3",
   "version": "3.12.5"
  },
  "orig_nbformat": 4
 },
 "nbformat": 4,
 "nbformat_minor": 2
}
